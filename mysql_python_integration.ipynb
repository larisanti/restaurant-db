{
 "cells": [
  {
   "cell_type": "markdown",
   "metadata": {},
   "source": [
    "# **Restaurant Analysis**"
   ]
  },
  {
   "cell_type": "markdown",
   "metadata": {},
   "source": [
    "---\n",
    "\n",
    "### **1. Import necessary libraries and set up the MySQL connection:**"
   ]
  },
  {
   "cell_type": "code",
   "execution_count": null,
   "metadata": {},
   "outputs": [],
   "source": [
    "import mysql.connector\n",
    "import matplotlib.pyplot as plt"
   ]
  },
  {
   "cell_type": "markdown",
   "metadata": {},
   "source": [
    "---\n",
    "\n",
    "### **2. Establish connection to the MySQL database:**\n",
    "\n",
    "This step connects to the **restaurant_db** database and allows for the execution of queries.\n"
   ]
  },
  {
   "cell_type": "code",
   "execution_count": null,
   "metadata": {},
   "outputs": [],
   "source": [
    "conn = mysql.connector.connect(\n",
    "    host=\"localhost\",     \n",
    "    user=\"-------\",  \n",
    "    password=\"-------\",  \n",
    "    database=\"restaurant_db\"  \n",
    "\n",
    "# Create cursor object\n",
    "cursor = conn.cursor()"
   ]
  },
  {
   "cell_type": "markdown",
   "metadata": {},
   "source": [
    "---\n",
    "\n",
    "### **3. Fetch data from the Bookings and Employees tables:**\n",
    "\n",
    "This query retrieves booking information along with the employee assigned to each booking.\n"
   ]
  },
  {
   "cell_type": "code",
   "execution_count": null,
   "metadata": {},
   "outputs": [],
   "source": [
    "query = \"\"\"\n",
    "SELECT \n",
    "    Bookings.BookingID, \n",
    "    Bookings.TableNo, \n",
    "    Bookings.GuestFirstName, \n",
    "    Bookings.GuestLastName, \n",
    "    Bookings.BookingSlot, \n",
    "    Employees.Name AS EmployeeName, \n",
    "    Employees.Role\n",
    "FROM \n",
    "    Bookings\n",
    "LEFT JOIN \n",
    "    Employees ON Bookings.EmployeeID = Employees.EmployeeID\n",
    "\"\"\"\n",
    "\n",
    "cursor.execute(query)\n",
    "\n",
    "# Fetch all results\n",
    "bookings_data = cursor.fetchall()\n",
    "\n",
    "# Display the first few rows of the data for inspection\n",
    "bookings_data[:5]  \n"
   ]
  },
  {
   "cell_type": "markdown",
   "metadata": {},
   "source": [
    "***\n",
    "\n",
    "### **4. Perform Data Analysis and Visualization:**\n",
    "\n",
    "This section performs data analysis and visualizes the results from the database. The goal is to extract valuable insights regarding the restaurant's operations.\n",
    "\n"
   ]
  },
  {
   "cell_type": "markdown",
   "metadata": {},
   "source": [
    "##### 4.1 Total Number of Bookings Per Employee\n",
    "\n",
    "This step calculates the total number of bookings handled by each employee. The analysis helps in understanding how the workload is distributed across employees. By visualizing this data, it becomes possible to identify employees with the highest number of bookings, which can inform staffing adjustments if necessary."
   ]
  },
  {
   "cell_type": "code",
   "execution_count": null,
   "metadata": {},
   "outputs": [],
   "source": [
    "# Connect to MySQL database\n",
    "import mysql.connector\n",
    "import matplotlib.pyplot as plt\n",
    "\n",
    "connection = mysql.connector.connect(\n",
    "    host=\"localhost\",\n",
    "    user=\"-------\",\n",
    "    password=\"-------\",\n",
    "    database=\"restaurant_db\"\n",
    ")\n",
    "\n",
    "# Create a cursor to execute SQL queries\n",
    "cursor = connection.cursor()\n",
    "\n",
    "# Query: Total number of bookings per employee\n",
    "cursor.execute(\"\"\"\n",
    "    SELECT E.Name AS EmployeeName, COUNT(B.BookingID) AS TotalBookings\n",
    "    FROM Employees E\n",
    "    LEFT JOIN Bookings B ON E.EmployeeID = B.EmployeeID\n",
    "    GROUP BY E.EmployeeID\n",
    "    ORDER BY TotalBookings DESC\n",
    "\"\"\")\n",
    "employee_bookings = cursor.fetchall()\n",
    "\n",
    "# Convert the data into two lists for plotting\n",
    "employee_names = [row[0] for row in employee_bookings]\n",
    "total_bookings = [row[1] for row in employee_bookings]\n",
    "\n",
    "# Plot the total number of bookings per employee\n",
    "plt.figure(figsize=(10, 6))\n",
    "plt.bar(employee_names, total_bookings, color='skyblue')\n",
    "plt.xlabel('Employee Name')\n",
    "plt.ylabel('Total Bookings')\n",
    "plt.title('Total Number of Bookings per Employee')\n",
    "plt.xticks(rotation=45, ha='right')\n",
    "plt.tight_layout()\n",
    "plt.show()"
   ]
  },
  {
   "cell_type": "markdown",
   "metadata": {},
   "source": [
    "##### 4.2 Distribution of Menu Item Types in Orders\n",
    "\n",
    "Next, explore the distribution of different types of menu items (e.g., starters, main courses, and desserts) ordered by customers. This insight provides a clearer understanding of customer preferences, which can help with inventory management, menu planning, and marketing strategies. A pie chart is used to visually represent the proportion of orders for each menu item type."
   ]
  },
  {
   "cell_type": "code",
   "execution_count": null,
   "metadata": {},
   "outputs": [],
   "source": [
    "# Query: Distribution of menu item types in orders\n",
    "cursor.execute(\"\"\"\n",
    "    SELECT MI.Type, SUM(O.Quantity) AS TotalOrders\n",
    "    FROM Orders O\n",
    "    JOIN Menus M ON O.MenuID = M.MenuID\n",
    "    JOIN MenuItems MI ON M.ItemID = MI.ItemID\n",
    "    GROUP BY MI.Type\n",
    "    ORDER BY TotalOrders DESC\n",
    "\"\"\")\n",
    "menu_item_types = cursor.fetchall()\n",
    "\n",
    "# Convert the data into two lists for plotting\n",
    "menu_types = [row[0] for row in menu_item_types]\n",
    "total_orders = [row[1] for row in menu_item_types]\n",
    "\n",
    "# Plot the distribution of menu item types in orders\n",
    "plt.figure(figsize=(8, 6))\n",
    "plt.pie(total_orders, labels=menu_types, autopct='%1.1f%%', startangle=140, colors=['lightgreen', 'lightcoral', 'lightskyblue', 'gold'])\n",
    "plt.title('Distribution of Menu Item Types in Orders')\n",
    "plt.axis('equal')  # Equal aspect ratio ensures that pie is drawn as a circle.\n",
    "plt.show()\n"
   ]
  },
  {
   "cell_type": "markdown",
   "metadata": {},
   "source": [
    "##### 4.3 Peak Hours of Bookings\n",
    "\n",
    "Finally, the peak hours of bookings are analyzed to identify the times with the highest number of bookings. This allows for more effective resource allocation, ensuring adequate staffing during peak periods. Additionally, this analysis aids in better kitchen planning and improves overall service efficiency."
   ]
  },
  {
   "cell_type": "code",
   "execution_count": null,
   "metadata": {},
   "outputs": [],
   "source": [
    "# Query: Peak hours of bookings (based on hour of booking slot)\n",
    "cursor.execute(\"\"\"\n",
    "    SELECT HOUR(BookingSlot) AS Hour, COUNT(*) AS NumBookings\n",
    "    FROM Bookings\n",
    "    GROUP BY Hour\n",
    "    ORDER BY NumBookings DESC\n",
    "\"\"\")\n",
    "peak_hours = cursor.fetchall()\n",
    "\n",
    "# Convert the data into two lists for plotting\n",
    "hours = [row[0] for row in peak_hours]\n",
    "num_bookings = [row[1] for row in peak_hours]\n",
    "\n",
    "# Plot the peak hours of bookings\n",
    "plt.figure(figsize=(10, 6))\n",
    "plt.bar(hours, num_bookings, color='lightseagreen')\n",
    "plt.xlabel('Hour of Day')\n",
    "plt.ylabel('Number of Bookings')\n",
    "plt.title('Peak Hours of Bookings')\n",
    "plt.xticks(range(0, 24, 1))\n",
    "plt.tight_layout()\n",
    "plt.show()"
   ]
  },
  {
   "cell_type": "markdown",
   "metadata": {},
   "source": [
    "---\n",
    "\n",
    "### **5. Close the MySQL connection after the analysis is complete:**"
   ]
  },
  {
   "cell_type": "code",
   "execution_count": null,
   "metadata": {},
   "outputs": [],
   "source": [
    "cursor.close()\n",
    "conn.close()"
   ]
  }
 ],
 "metadata": {
  "language_info": {
   "name": "python"
  }
 },
 "nbformat": 4,
 "nbformat_minor": 2
}
